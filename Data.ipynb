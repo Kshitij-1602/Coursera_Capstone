{
 "metadata": {
  "language_info": {
   "codemirror_mode": {
    "name": "ipython",
    "version": 3
   },
   "file_extension": ".py",
   "mimetype": "text/x-python",
   "name": "python",
   "nbconvert_exporter": "python",
   "pygments_lexer": "ipython3",
   "version": "3.9.2-final"
  },
  "orig_nbformat": 2,
  "kernelspec": {
   "name": "python3",
   "display_name": "Python 3.9.2 64-bit",
   "metadata": {
    "interpreter": {
     "hash": "767d51c1340bd893661ea55ea3124f6de3c7a262a8b4abca0554b478b1e2ff90"
    }
   }
  }
 },
 "nbformat": 4,
 "nbformat_minor": 2,
 "cells": [
  {
   "source": [
    "# Data For the Final Project"
   ],
   "cell_type": "markdown",
   "metadata": {}
  },
  {
   "source": [
    "For this Module:\n",
    "Following Data set will be required throughout the course with the Data Source being procured from Foursquare API \n"
   ],
   "cell_type": "markdown",
   "metadata": {}
  },
  {
   "source": [
    "New Delhi Resturants data that lists Locality, Resturant name,Rating along with the latitude and longitude of the place.\n",
    "\n",
    "# Data source : Zomato kaggel dataset : \"https://www.kaggle.com/shrutimehta/zomato-restaurants-data\"\n",
    "\n",
    "Description : This data set contains the required \n",
    "information. And we will use this data set to explore various locality of new delhi city.\n",
    "\n",
    "Nearby places in each locality of new delhi city.\n",
    "\n",
    "# Data source : Fousquare API : \"https://developer.foursquare.com/\"\n",
    "\n",
    "Description : By using this api we will get all the venues in each neighborhood."
   ],
   "cell_type": "markdown",
   "metadata": {}
  }
 ]
}