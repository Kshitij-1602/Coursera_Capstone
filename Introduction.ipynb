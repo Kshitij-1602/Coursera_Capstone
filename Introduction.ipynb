{
 "metadata": {
  "language_info": {
   "codemirror_mode": {
    "name": "ipython",
    "version": 3
   },
   "file_extension": ".py",
   "mimetype": "text/x-python",
   "name": "python",
   "nbconvert_exporter": "python",
   "pygments_lexer": "ipython3",
   "version": "3.9.2-final"
  },
  "orig_nbformat": 2,
  "kernelspec": {
   "name": "python3",
   "display_name": "Python 3.9.2 64-bit",
   "metadata": {
    "interpreter": {
     "hash": "767d51c1340bd893661ea55ea3124f6de3c7a262a8b4abca0554b478b1e2ff90"
    }
   }
  }
 },
 "nbformat": 4,
 "nbformat_minor": 2,
 "cells": [
  {
   "source": [
    "# All types of cuisines in Delhi,India"
   ],
   "cell_type": "markdown",
   "metadata": {}
  },
  {
   "source": [
    "This Module will deal with the differnet types of cuisines available in different parts of the city.\n",
    "\n",
    "The Division will be on the basis of cuisines offered,location,popularity,cleanliness and many more."
   ],
   "cell_type": "markdown",
   "metadata": {}
  },
  {
   "source": [
    "Will Comment out the Best,Worst restaurants.\n",
    "Chinese,Indian,Italian cusinies offered and popular among the local public and tourists.\n",
    "\n",
    "This module will cover all these details related to restaurants in Delhi in Detail. "
   ],
   "cell_type": "markdown",
   "metadata": {}
  }
 ]
}